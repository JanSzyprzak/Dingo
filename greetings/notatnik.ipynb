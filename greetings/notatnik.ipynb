{
 "cells": [
  {
   "cell_type": "code",
   "execution_count": null,
   "metadata": {},
   "outputs": [],
   "source": [
    "{% breadcrumb \"Home\" \"greetings:home\" %}\n",
    "    {% breadcrumb \"Maths\" \"maths:list\" %}"
   ]
  },
  {
   "cell_type": "code",
   "execution_count": null,
   "metadata": {},
   "outputs": [],
   "source": [
    "background-image: url(\"dingo3.jpg\");\n",
    "    background-color: #cccccc;"
   ]
  }
 ],
 "metadata": {
  "language_info": {
   "name": "python"
  },
  "orig_nbformat": 4
 },
 "nbformat": 4,
 "nbformat_minor": 2
}
