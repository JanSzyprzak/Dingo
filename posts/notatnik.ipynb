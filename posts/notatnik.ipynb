{
 "cells": [
  {
   "cell_type": "code",
   "execution_count": 5,
   "metadata": {},
   "outputs": [
    {
     "ename": "ImportError",
     "evalue": "attempted relative import with no known parent package",
     "output_type": "error",
     "traceback": [
      "\u001b[0;31m---------------------------------------------------------------------------\u001b[0m",
      "\u001b[0;31mImportError\u001b[0m                               Traceback (most recent call last)",
      "Cell \u001b[0;32mIn[5], line 1\u001b[0m\n\u001b[0;32m----> 1\u001b[0m \u001b[39mfrom\u001b[39;00m \u001b[39m.\u001b[39;00m\u001b[39mmodels\u001b[39;00m \u001b[39mimport\u001b[39;00m Author\n\u001b[1;32m      2\u001b[0m authors_choicelist \u001b[39m=\u001b[39m [(a\u001b[39m.\u001b[39mnick, a\u001b[39m.\u001b[39mnick) \u001b[39mfor\u001b[39;00m a \u001b[39min\u001b[39;00m Author\u001b[39m.\u001b[39mobjects\u001b[39m.\u001b[39mall()]\n\u001b[1;32m      3\u001b[0m authors_choicelist\n",
      "\u001b[0;31mImportError\u001b[0m: attempted relative import with no known parent package"
     ]
    }
   ],
   "source": [
    "from .models import Author\n",
    "authors_choicelist = [(a.nick, a.nick) for a in Author.objects.all()]\n",
    "authors_choicelist"
   ]
  },
  {
   "cell_type": "code",
   "execution_count": 2,
   "metadata": {},
   "outputs": [
    {
     "name": "stdout",
     "output_type": "stream",
     "text": [
      "John is 25 years old and weighs 80 kg.\n",
      "Jane is 30 years old and weighs 70 kg.\n",
      "Bob is 45 years old and weighs 67 kg.\n"
     ]
    }
   ],
   "source": [
    "my_list = [['John', 25, 80], ['Jane', 30, 70], ['Bob', 45, 67]]\n",
    "\n",
    "for name, age, weight in my_list:\n",
    "    print(f\"{name} is {age} years old and weighs {weight} kg.\")"
   ]
  },
  {
   "cell_type": "code",
   "execution_count": 1,
   "metadata": {},
   "outputs": [
    {
     "data": {
      "text/plain": [
       "4"
      ]
     },
     "execution_count": 1,
     "metadata": {},
     "output_type": "execute_result"
    }
   ],
   "source": [
    "list = [1, 2, 3, 4]\n",
    "m = list.pop()\n",
    "m"
   ]
  },
  {
   "cell_type": "code",
   "execution_count": null,
   "metadata": {},
   "outputs": [],
   "source": [
    "\"\"\"  if form.is_valid():\n",
    "    Post.objects.create(title=request.POST['title'], content=request.POST['content'], author = author_from_form)\n",
    "    messages.add_message(\n",
    "        request,\n",
    "        messages.SUCCESS,\n",
    "        \"Dodano nowy post!!!!!!!!!!!!!!!!!!!!!!\"\n",
    "    )\"\"\"\n",
    "\n",
    "    \"\"\" else:\n",
    "    messages.add_message(\n",
    "        request,\n",
    "        messages.ERROR,\n",
    "        form.errors['__all__']\n",
    "    )\"\"\""
   ]
  }
 ],
 "metadata": {
  "kernelspec": {
   "display_name": "venv",
   "language": "python",
   "name": "python3"
  },
  "language_info": {
   "codemirror_mode": {
    "name": "ipython",
    "version": 3
   },
   "file_extension": ".py",
   "mimetype": "text/x-python",
   "name": "python",
   "nbconvert_exporter": "python",
   "pygments_lexer": "ipython3",
   "version": "3.10.6"
  },
  "orig_nbformat": 4
 },
 "nbformat": 4,
 "nbformat_minor": 2
}
